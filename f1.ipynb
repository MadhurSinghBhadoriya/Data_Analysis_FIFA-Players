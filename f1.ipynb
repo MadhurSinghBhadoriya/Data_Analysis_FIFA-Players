{
 "cells": [
  {
   "cell_type": "code",
   "execution_count": null,
   "source": [
    "import pandas as pd\r\n",
    "from matplotlib import pyplot as plt\r\n",
    "from matplotlib import patches as mpatches\r\n",
    "import seaborn as sns\r\n",
    "import csv"
   ],
   "outputs": [],
   "metadata": {}
  },
  {
   "cell_type": "code",
   "execution_count": null,
   "source": [
    "fifa = pd.read_csv(\"players_20.csv\")\r\n",
    "fifa.head()"
   ],
   "outputs": [],
   "metadata": {}
  },
  {
   "cell_type": "code",
   "execution_count": null,
   "source": [
    "for col in fifa.columns:\r\n",
    "    print(col)"
   ],
   "outputs": [],
   "metadata": {}
  },
  {
   "cell_type": "code",
   "execution_count": null,
   "source": [
    "fifa.shape"
   ],
   "outputs": [],
   "metadata": {}
  },
  {
   "cell_type": "code",
   "execution_count": null,
   "source": [
    "fifa['nationality'].value_counts()[1:11]"
   ],
   "outputs": [],
   "metadata": {}
  },
  {
   "cell_type": "code",
   "execution_count": null,
   "source": [
    "nat2 = fifa['nationality'].value_counts()[0:11].keys()\r\n",
    "\r\n",
    "plt.figure(figsize=(14,5))\r\n",
    "plt.bar(list(fifa['nationality'].value_counts()[0:10].keys()), list(fifa['nationality'].value_counts()[0:10]), color = 'pink')\r\n",
    "\r\n",
    "one = mpatches.Patch(facecolor='pink', label='No. of Players', linewidth = 0.5, edgecolor = 'black')\r\n",
    "legend = plt.legend(handles = [one], loc = 1 , fontsize = 'small', fancybox = True)\r\n",
    "frame = legend.get_frame() #sets up for color, edge, and transparency\r\n",
    "frame.set_facecolor('#b4aeae') #color of legend\r\n",
    "frame.set_edgecolor('black') #edge color of legend\r\n",
    "frame.set_alpha(0.1) #deals with transparency\r\n",
    "\r\n",
    "\r\n",
    "plt.show()"
   ],
   "outputs": [],
   "metadata": {}
  },
  {
   "cell_type": "code",
   "execution_count": null,
   "source": [
    "fifa['height_cm'].value_counts()[0:10]"
   ],
   "outputs": [],
   "metadata": {}
  },
  {
   "cell_type": "code",
   "execution_count": null,
   "source": [
    "clb2 = fifa['height_cm'].value_counts()[0:15].keys()\r\n",
    "\r\n",
    "plt.figure(figsize=(10,5))\r\n",
    "plt.bar(list(fifa['height_cm'].value_counts()[0:15].keys()), list(fifa['height_cm'].value_counts()[0:15]), color = 'brown')"
   ],
   "outputs": [],
   "metadata": {}
  },
  {
   "cell_type": "code",
   "execution_count": null,
   "source": [
    "fifa['age'].value_counts()[1:11]"
   ],
   "outputs": [],
   "metadata": {}
  },
  {
   "cell_type": "code",
   "execution_count": null,
   "source": [
    "age2 = fifa['age'].value_counts()[0:11].keys()\r\n",
    "\r\n",
    "plt.figure(figsize=(17,5))\r\n",
    "plt.bar(list(fifa['age'].value_counts()[0:20].keys()), list(fifa['age'].value_counts()[0:20]), color = 'red')"
   ],
   "outputs": [],
   "metadata": {}
  },
  {
   "cell_type": "code",
   "execution_count": null,
   "source": [
    "fifa['preferred_foot'].value_counts()"
   ],
   "outputs": [],
   "metadata": {}
  },
  {
   "cell_type": "code",
   "execution_count": null,
   "source": [
    "fifa['player_tags'].value_counts()[0:10]"
   ],
   "outputs": [],
   "metadata": {}
  },
  {
   "cell_type": "code",
   "execution_count": null,
   "source": [
    "tag2 = fifa['player_tags'].value_counts()[0:10].keys()\r\n",
    "\r\n",
    "plt.figure(figsize=(30,5))\r\n",
    "plt.bar(list(fifa['player_tags'].value_counts()[0:10].keys()), list(fifa['player_tags'].value_counts()[0:10]), color = 'gray')"
   ],
   "outputs": [],
   "metadata": {}
  },
  {
   "cell_type": "code",
   "execution_count": null,
   "source": [
    "fifa['player_traits'].value_counts()[0:10]"
   ],
   "outputs": [],
   "metadata": {}
  },
  {
   "cell_type": "code",
   "execution_count": null,
   "source": [
    "player_salary = fifa[['short_name', 'wage_eur']]\r\n",
    "player_salary.head()"
   ],
   "outputs": [],
   "metadata": {}
  },
  {
   "cell_type": "code",
   "execution_count": null,
   "source": [
    "player_salary = player_salary.sort_values(by =['wage_eur'], ascending = False)\r\n",
    "\r\n",
    "player_salary.head()"
   ],
   "outputs": [],
   "metadata": {}
  },
  {
   "cell_type": "code",
   "execution_count": null,
   "source": [
    "plt.figure(figsize=(8,5))\r\n",
    "plt.bar(list(player_salary['short_name'])[0:5], list(player_salary['wage_eur'])[0:5], color = ['blue', 'g', 'r', 'pink', 'orange'])"
   ],
   "outputs": [],
   "metadata": {}
  },
  {
   "cell_type": "code",
   "execution_count": null,
   "source": [
    "player_rating = fifa[['nationality', 'short_name', 'overall', 'age', 'club']]\r\n",
    "player_rating.head()\r\n"
   ],
   "outputs": [],
   "metadata": {}
  },
  {
   "cell_type": "code",
   "execution_count": null,
   "source": [
    "player_rating = player_rating.sort_values(by = ['overall'], ascending=False)\r\n",
    "player_rating.head()"
   ],
   "outputs": [],
   "metadata": {}
  },
  {
   "cell_type": "code",
   "execution_count": null,
   "source": [
    "plt.figure(figsize=(8,5))\r\n",
    "plt.bar(list(player_rating['short_name'])[0:5], list(player_rating['age'])[0:5], color = ['gray', 'yellow', 'pink', 'red', 'blue'])"
   ],
   "outputs": [],
   "metadata": {}
  },
  {
   "cell_type": "code",
   "execution_count": null,
   "source": [
    "player_bmi = fifa[['short_name','height_cm', 'weight_kg']]\r\n",
    "player_bmi = player_bmi.sort_values(by =['height_cm'], ascending=False)\r\n",
    "player_bmi.head()\r\n"
   ],
   "outputs": [],
   "metadata": {}
  },
  {
   "cell_type": "code",
   "execution_count": null,
   "source": [
    "plt.figure(figsize= (22,6))\r\n",
    "# plt.legend('weight_kg', 'height_cm')\r\n",
    "\r\n",
    "plt.bar(list(player_bmi['height_cm'])[0:100], list(player_bmi['weight_kg'])[0:100], color = 'green' )\r\n",
    "plt.show()\r\n"
   ],
   "outputs": [],
   "metadata": {}
  },
  {
   "cell_type": "code",
   "execution_count": null,
   "source": [
    "fifa['nationality'] == 'Germany'"
   ],
   "outputs": [],
   "metadata": {}
  },
  {
   "cell_type": "code",
   "execution_count": null,
   "source": [
    "# Germany\r\n",
    "Germany = fifa[fifa['nationality'] == 'Germany']\r\n",
    "Germany.head(10)"
   ],
   "outputs": [],
   "metadata": {}
  },
  {
   "cell_type": "code",
   "execution_count": null,
   "source": [
    "Germany.sort_values(by = ['height_cm'],ascending= False).head()"
   ],
   "outputs": [],
   "metadata": {}
  },
  {
   "cell_type": "code",
   "execution_count": null,
   "source": [
    "Germany.sort_values(by = ['weight_kg'], ascending= False).head()"
   ],
   "outputs": [],
   "metadata": {}
  },
  {
   "cell_type": "code",
   "execution_count": null,
   "source": [
    "Germany.sort_values(by = ['wage_eur'], ascending= False).head(10)"
   ],
   "outputs": [],
   "metadata": {}
  },
  {
   "cell_type": "code",
   "execution_count": null,
   "source": [
    "Germany[['short_name','wage_eur']].sort_values(by = ['wage_eur'], ascending =False ).head()"
   ],
   "outputs": [],
   "metadata": {}
  },
  {
   "cell_type": "code",
   "execution_count": null,
   "source": [
    "# Shooting"
   ],
   "outputs": [],
   "metadata": {}
  },
  {
   "cell_type": "code",
   "execution_count": null,
   "source": [
    "player_shooting = fifa[['short_name', 'shooting']]"
   ],
   "outputs": [],
   "metadata": {}
  },
  {
   "cell_type": "code",
   "execution_count": null,
   "source": [
    "player_shooting.sort_values(by = ['shooting'], ascending= False).head()"
   ],
   "outputs": [],
   "metadata": {}
  },
  {
   "cell_type": "code",
   "execution_count": null,
   "source": [
    "# Defending\r\n",
    "\r\n",
    "player_defending = fifa[['short_name' , 'defending', 'nationality', 'club']]\r\n",
    "player_defending.sort_values(by = ['defending'], ascending= False).head()"
   ],
   "outputs": [],
   "metadata": {}
  },
  {
   "cell_type": "code",
   "execution_count": null,
   "source": [
    "# Real Madrid\r\n",
    "\r\n",
    "real_madrid = fifa[fifa['club'] == 'Real Madrid']\r\n",
    "real_madrid.sort_values(by = ['wage_eur'], ascending= False).head()"
   ],
   "outputs": [],
   "metadata": {}
  },
  {
   "cell_type": "code",
   "execution_count": null,
   "source": [
    "real_madrid.sort_values(by = ['defending'], ascending= False).head()"
   ],
   "outputs": [],
   "metadata": {}
  },
  {
   "cell_type": "code",
   "execution_count": null,
   "source": [
    "real_madrid.sort_values(by =['shooting'], ascending = False).head()"
   ],
   "outputs": [],
   "metadata": {}
  },
  {
   "cell_type": "code",
   "execution_count": null,
   "source": [
    "real_madrid['nationality'].value_counts()"
   ],
   "outputs": [],
   "metadata": {}
  },
  {
   "cell_type": "code",
   "execution_count": null,
   "source": [
    "real_madrid['height_cm'].value_counts()"
   ],
   "outputs": [],
   "metadata": {}
  },
  {
   "cell_type": "code",
   "execution_count": null,
   "source": [
    "real_madrid['age'].value_counts()"
   ],
   "outputs": [],
   "metadata": {}
  }
 ],
 "metadata": {
  "orig_nbformat": 4,
  "language_info": {
   "name": "python",
   "version": "3.9.6",
   "mimetype": "text/x-python",
   "codemirror_mode": {
    "name": "ipython",
    "version": 3
   },
   "pygments_lexer": "ipython3",
   "nbconvert_exporter": "python",
   "file_extension": ".py"
  },
  "kernelspec": {
   "name": "python3",
   "display_name": "Python 3.9.6 64-bit"
  },
  "interpreter": {
   "hash": "8f8d5af0158238223cd12c6950c700bdcb108b8c8039aa5ab67e8284477a1c0e"
  }
 },
 "nbformat": 4,
 "nbformat_minor": 2
}